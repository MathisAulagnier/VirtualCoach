{
 "cells": [
  {
   "cell_type": "markdown",
   "metadata": {},
   "source": [
    "## ReadMe\n",
    "\n",
    "**Important** :  Avant d'exécuter le code, installer l'environnement virtuel et les dépendances du projet en exécutant les commandes suivantes :\n",
    "\n",
    "```bash\n",
    "python3 -m venv venv\n",
    "source venv/bin/activate\n",
    "pip install -r requirements.txt\n",
    "```\n",
    "### Information disponible sur le ReadME"
   ]
  },
  {
   "cell_type": "code",
   "execution_count": 1,
   "metadata": {},
   "outputs": [],
   "source": [
    "import ollama\n",
    "import json\n",
    "import re\n"
   ]
  },
  {
   "cell_type": "code",
   "execution_count": 17,
   "metadata": {},
   "outputs": [
    {
     "name": "stdout",
     "output_type": "stream",
     "text": [
      "/Users/mathisaulagnier/VirtualCoach/Models\n"
     ]
    }
   ],
   "source": [
    "# Where am I?\n",
    "import os\n",
    "print(os.getcwd())"
   ]
  },
  {
   "cell_type": "code",
   "execution_count": 2,
   "metadata": {},
   "outputs": [],
   "source": [
    "contexte = []"
   ]
  },
  {
   "cell_type": "code",
   "execution_count": 19,
   "metadata": {},
   "outputs": [],
   "source": [
    "# Lecture du fichier json contenant les exercices\n",
    "with open(\"../data/exercises.json\", \"r\") as file:\n",
    "    exercises = json.load(file)\n",
    "    \n"
   ]
  },
  {
   "cell_type": "code",
   "execution_count": 3,
   "metadata": {},
   "outputs": [
    {
     "name": "stdout",
     "output_type": "stream",
     "text": [
      "{'model': 'llama3', 'created_at': '2024-10-11T18:22:33.347219Z', 'message': {'role': 'assistant', 'content': 'Here\\'s a personalized workout plan for John Doe based on his goal, physical condition, and deadline. Since the user has an intermediate physical condition, we\\'ll focus on exercises that balance strength and technique.\\n\\n```\\n[\\n    {\\n        \"name\": \"Bench Press\",\\n        \"sets\": 3,\\n        \"repetitions\": 8-12,\\n        \"rest_time\": 60-90 seconds,\\n        \"gif_path\": \"data/fitness/exercises/bench_press.gif\"\\n    },\\n    {\\n        \"name\": \"Incline Dumbbell Press\",\\n        \"sets\": 3,\\n        \"repetitions\": 10-15,\\n        \"rest_time\": 60-90 seconds,\\n        \"gif_path\": \"data/fitness/exercises/incline_dumbbell_press.gif\"\\n    },\\n    {\\n        \"name\": \"Push-ups\",\\n        \"sets\": 3,\\n        \"repetitions\": 12-18,\\n        \"rest_time\": 30-60 seconds,\\n        \"gif_path\": \"data/fitness/exercises/push_ups.gif\"\\n    },\\n    {\\n        \"name\": \"Dumbbell Fly\",\\n        \"sets\": 3,\\n        \"repetitions\": 10-15,\\n        \"rest_time\": 30-60 seconds,\\n        \"gif_path\": \"data/fitness/exercises/dumbbell_fly.gif\"\\n    }\\n]\\n```\\n\\nThis workout plan aims to help John Doe increase his pectoral muscle mass. The exercises are designed to target the chest muscles from different angles, ensuring overall development and strength. The sets, repetitions, and rest time are adjusted according to his intermediate physical condition, focusing on a balance between challenging himself and allowing for proper recovery.\\n\\nRemember to encourage John Doe to warm up before each workout session, stretch after each exercise, and gradually increase the difficulty as he becomes more comfortable with the exercises and routine.'}, 'done_reason': 'stop', 'done': True, 'total_duration': 13867279959, 'load_duration': 434294834, 'prompt_eval_count': 307, 'prompt_eval_duration': 1147943000, 'eval_count': 387, 'eval_duration': 12275489000}\n"
     ]
    }
   ],
   "source": [
    "msg = [\n",
    "    {\n",
    "        \"role\": \"system\",\n",
    "        \"content\" : \n",
    "        f\"\"\"\n",
    "        You are a highly knowledgeable and adaptive fitness coach specializing in creating personalized workout programs. \n",
    "        Your goal is to design an exercise plan based on a user's goal, current physical condition, and deadline. \n",
    "        You will receive a JSON file containing the user's information, including the fitness goal, physical condition, and deadline. Based on this information and the list of exercises provided, generate a structured JSON file with a workout plan that helps the user achieve their goal within the time frame.\n",
    "        The workout plan should only include the exercises (minimum 4 exercices) for the training session, without additional context. Each exercise entry must specify the name of the exercise, the number of sets, repetitions, rest time, and the path to the exercise GIF (e.g., 'data/downloaded_gif/exercise_name.gif'). \n",
    "        Ensure that the plan adapts to the user’s condition, prioritizing safety and efficiency. \n",
    "        The exercise list provided will be the only exercises you can select from. \n",
    "        Your responses should always follow a JSON format.\n",
    "        \n",
    "        \"\"\"\n",
    "    },\n",
    "    {\n",
    "        \"role\" : \"user\",\n",
    "        \"content\" : \"\"\"\n",
    "        The user has provided the following JSON data with details about their goal, physical condition, and deadline:\n",
    "        {\n",
    "            \"Name\" : \"John Doe\",\n",
    "            \"goal\": \"increase pectoral muscle mass\",\n",
    "            \"physical_condition\": \"intermediate\",\n",
    "        }\n",
    "        \"\"\"\n",
    "  }\n",
    "]\n",
    "\n",
    "output = ollama.chat(\n",
    "    model='llama3',\n",
    "    messages=msg\n",
    ")\n",
    "\n",
    "print(output)\n"
   ]
  },
  {
   "cell_type": "code",
   "execution_count": 40,
   "metadata": {},
   "outputs": [
    {
     "name": "stdout",
     "output_type": "stream",
     "text": [
      "<class 'str'>\n",
      "{'Exercises': [{'name': 'Bench Press', 'sets': 4, 'repetitions': 8, 'rest_time': 60, 'gif_path': 'data/downloaded_gif/bench_press.gif'}, {'name': 'Incline Dumbbell Press', 'sets': 3, 'repetitions': 12, 'rest_time': 45, 'gif_path': 'data/downloaded_gif/incline_dumbbell_press.gif'}, {'name': 'Push-ups', 'sets': 3, 'repetitions': 15, 'rest_time': 30, 'gif_path': 'data/downloaded_gif/push_ups.gif'}, {'name': 'Cable Flyes', 'sets': 4, 'repetitions': 12, 'rest_time': 60, 'gif_path': 'data/downloaded_gif/cable_flyes.gif'}]}\n"
     ]
    }
   ],
   "source": [
    "\n",
    "print(type(output['message']['content']))\n",
    "# Utiliser une expression régulière pour extraire le texte entre les balises ```json et ```\n",
    "json_text = re.search(r'```json(.*?)```', output['message']['content'], re.DOTALL).group(1).strip()\n",
    "# Supprimer les commentaires du JSON\n",
    "json_str_cleaned = re.sub(r'//.*', '', json_text)\n",
    "\n",
    "# Charger le texte JSON en dictionnaire\n",
    "output_data = json.loads(json_str_cleaned)\n",
    "workout_plan = output_data.get('WorkoutPlan').get('Session1')\n",
    "\n",
    "print(workout_plan)\n"
   ]
  },
  {
   "cell_type": "code",
   "execution_count": 9,
   "metadata": {},
   "outputs": [],
   "source": [
    "msg.append({\"role\": \"system\",\n",
    "            \"content\": output['message']['content']})"
   ]
  },
  {
   "cell_type": "code",
   "execution_count": 10,
   "metadata": {},
   "outputs": [
    {
     "name": "stdout",
     "output_type": "stream",
     "text": [
      "[{'role': 'system', 'content': \"You are a friendly AI assistant living in an English-speaking country. The user you're interacting with is French. Your respons are in English and should not exceed 30 words approximatly.\\n        \"}, {'role': 'user', 'content': \"Hello, I'm Mathis and I'm going to the zoo this afternoon, has you ever been to the zoo?\"}, {'role': 'system', 'content': \" Hello Mathis, yes, I have been to the zoo before. It's a wonderful experience to see and learn about different animals up close. Enjoy your visit!\"}]\n"
     ]
    }
   ],
   "source": [
    "print(msg)"
   ]
  },
  {
   "cell_type": "code",
   "execution_count": 11,
   "metadata": {},
   "outputs": [],
   "source": [
    "output = ollama.chat(\n",
    "    model='mistral',\n",
    "    messages=msg\n",
    ")\n",
    "\n"
   ]
  },
  {
   "cell_type": "code",
   "execution_count": 12,
   "metadata": {},
   "outputs": [
    {
     "name": "stdout",
     "output_type": "stream",
     "text": [
      "Role: system\n",
      "Content: You are a friendly AI assistant living in an English-speaking country. The user you're interacting with is French. Your respons are in English and should not exceed 30 words approximatly.\n",
      "        \n",
      "\n",
      "Role: user\n",
      "Content: Hello, I'm Mathis and I'm going to the zoo this afternoon, has you ever been to the zoo?\n",
      "\n",
      "Role: system\n",
      "Content:  Hello Mathis, yes, I have been to the zoo before. It's a wonderful experience to see and learn about different animals up close. Enjoy your visit!\n",
      "\n"
     ]
    }
   ],
   "source": [
    "for message in msg:\n",
    "    print(f\"Role: {message['role']}\")\n",
    "    print(f\"Content: {message['content']}\")\n",
    "    print()\n"
   ]
  }
 ],
 "metadata": {
  "kernelspec": {
   "display_name": "virtualCoach",
   "language": "python",
   "name": "python3"
  },
  "language_info": {
   "codemirror_mode": {
    "name": "ipython",
    "version": 3
   },
   "file_extension": ".py",
   "mimetype": "text/x-python",
   "name": "python",
   "nbconvert_exporter": "python",
   "pygments_lexer": "ipython3",
   "version": "3.11.9"
  }
 },
 "nbformat": 4,
 "nbformat_minor": 2
}
